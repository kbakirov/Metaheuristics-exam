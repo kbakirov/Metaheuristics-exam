{
 "cells": [
  {
   "cell_type": "code",
   "execution_count": null,
   "metadata": {},
   "outputs": [],
   "source": [
    "# Shifted Schwefel's Problem with D=500\n",
    "\n",
    "# Import libraries\n",
    "import numpy as np\n",
    "import pandas as pd\n",
    "import pygmo as pg\n",
    "import matplotlib.pyplot as plt\n",
    "import time"
   ]
  },
  {
   "cell_type": "code",
   "execution_count": null,
   "metadata": {},
   "outputs": [],
   "source": [
    "# Read data from csv\n",
    "data = pd.read_csv(\"./Schwefel's_Problem.csv\")\n",
    "schwefel = raw_data[\"val\"].tolist()\n",
    "print(schwefel)\n",
    "print(type(schwefel))"
   ]
  },
  {
   "cell_type": "code",
   "execution_count": null,
   "metadata": {},
   "outputs": [],
   "source": [
    "# Parameters\n",
    "Dim = 500\n",
    "bias = -450\n",
    "lower_bound = -100\n",
    "upper_bound = 100\n",
    "popsize = 100"
   ]
  },
  {
   "cell_type": "code",
   "execution_count": null,
   "metadata": {},
   "outputs": [],
   "source": [
    "# Last parameters\n",
    "def function(x, data, dim, f_bias):\n",
    "    F = abs(x[0] - data[0])\n",
    "    for i in range(1, dim - 1):\n",
    "        z = x[i] - data[i]\n",
    "        F = max(F, abs(z))\n",
    "    res = F + f_bias\n",
    "    return res"
   ]
  },
  {
   "cell_type": "code",
   "execution_count": null,
   "metadata": {},
   "outputs": [],
   "source": [
    "class schwefel_prob:\n",
    "    def __init__(self, dim, lower_bound, upper_bound, optim, bias):\n",
    "        self.dim = dim\n",
    "        self.lower_bound = lower_bound\n",
    "        self.upper_bound = upper_bound\n",
    "        self.optim = optim\n",
    "        self.bias = bias\n",
    "\n",
    "    def fitness(self, x):\n",
    "        res = [function(x, self.optim, self.dim, self.bias)]\n",
    "        return res\n",
    "\n",
    "    def get_bounds(self):\n",
    "        xmin = self.lower_bound * np.ones(self.dim)\n",
    "        xmax = self.upper_bound * np.ones(self.dim)\n",
    "        return xmin, xmax\n"
   ]
  },
  {
   "cell_type": "code",
   "execution_count": null,
   "metadata": {},
   "outputs": [],
   "source": [
    "def solver(dimension, lower_bound, upper_bound, optim, bias, popsize):\n",
    "    global algo\n",
    "    global pop\n",
    "    global niter\n",
    "    global log\n",
    "    global curve\n",
    "    prob = pg.problem(schwefel_prob(dimension, lower_bound, upper_bound, optim, bias))\n",
    "    algo = pg.algorithm(pg.sga(gen=100000, cr=0.9, eta_c=1.0, m=0.02, param_m=1.0, param_s=2, crossover='sbx', mutation='polynomial', selection='truncated'))\n",
    "    algo.set_verbosity(1)\n",
    "    pop = pg.population(prob, popsize)\n",
    "    pop = algo.evolve(pop)\n",
    "    log = algo.extract(pg.sga).get_log()\n",
    "    curve = [x[2] for x in log]\n",
    "    niter = log[-1][0]\n",
    "    return prob, algo, pop, log, niter, curve"
   ]
  },
  {
   "cell_type": "code",
   "execution_count": null,
   "metadata": {},
   "outputs": [],
   "source": [
    "# Create a function to plot the convergence curve\n",
    "def plot_fitness(solution):\n",
    "    fig = plt.figure(figsize=(16, 13))\n",
    "    plt.plot(solution)\n",
    "    plt.title(\"Continuous Optimization: Shifted Schwefel's Problem 2.21 (F2) with D=500\", fontsize=12)\n",
    "    plt.xlabel(\"Time (iterations)\", fontsize=10)\n",
    "    plt.ylabel(\"Fitness\", fontsize=10)\n",
    "    plt.show()"
   ]
  },
  {
   "cell_type": "code",
   "execution_count": null,
   "metadata": {},
   "outputs": [],
   "source": [
    "# Start timer to get computational time\n",
    "t1 = time.time()"
   ]
  },
  {
   "cell_type": "code",
   "execution_count": null,
   "metadata": {},
   "outputs": [],
   "source": [
    "# Solve the problem\n",
    "solver(D, lower_bound, upper_bound, schwefel, bias, popsize)"
   ]
  },
  {
   "cell_type": "code",
   "execution_count": null,
   "metadata": {},
   "outputs": [],
   "source": [
    "# Stop timer and compute computational time\n",
    "t2 = time.time()\n",
    "comp_time = t2 - t1"
   ]
  },
  {
   "cell_type": "code",
   "execution_count": null,
   "metadata": {},
   "outputs": [],
   "source": [
    "# Print parameters and solutions\n",
    "print(\"==========================================================================\\n\")\n",
    "print(\"Function: Shifted Schwefel's Problem 2.21 (F2)\\n\")\n",
    "print(\"01. Chosen algorithm to solve the problem: SGA from Pygmo\\n\")\n",
    "print(\"02. Parameters:\")\n",
    "print(\"\\nDimension:\", D)\n",
    "print(\"\\nSearch space: [\", lower_bound, \",\", upper_bound, \"]\")\n",
    "print(\"\\nBias:\", bias)\n",
    "print(\"\\nPopulation size:\", popsize)\n",
    "param = algo.get_extra_info()\n",
    "print(\"\\n\", param)\n",
    "print(\"\\n03. Final results:\")\n",
    "sol_df = pd.DataFrame(pop.champion_x, columns=[''])\n",
    "sol_df.to_csv(\"Schwefel_sol500.csv\", sep=\",\")\n",
    "print(\"\\n    - Solutions:\", sol_df)\n",
    "print(\"\\n    - Fitness:\", pop.champion_f[0])\n",
    "print(\"\\nNumber of function evaluations:\", pop.problem.get_fevals())\n",
    "print(\"\\nStopping criterion:\", niter, \"iterations\")\n",
    "print(\"\\nComputational time:\", round(comp_time, 2), \"seconds\\n\")\n",
    "print(\"==========================================================================\")"
   ]
  },
  {
   "cell_type": "code",
   "execution_count": null,
   "metadata": {},
   "outputs": [],
   "source": [
    "# Plot and save convergence curve\n",
    "plot_fitness(curve)"
   ]
  },
  {
   "cell_type": "code",
   "execution_count": null,
   "metadata": {},
   "outputs": [],
   "source": []
  }
 ],
 "metadata": {
  "kernelspec": {
   "display_name": "Python 3",
   "language": "python",
   "name": "python3"
  },
  "language_info": {
   "codemirror_mode": {
    "name": "ipython",
    "version": 3
   },
   "file_extension": ".py",
   "mimetype": "text/x-python",
   "name": "python",
   "nbconvert_exporter": "python",
   "pygments_lexer": "ipython3",
   "version": "3.7.5"
  }
 },
 "nbformat": 4,
 "nbformat_minor": 2
}
