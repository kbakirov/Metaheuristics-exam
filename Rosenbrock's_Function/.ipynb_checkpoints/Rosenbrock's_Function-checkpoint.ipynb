{
 "cells": [
  {
   "cell_type": "code",
   "execution_count": null,
   "metadata": {},
   "outputs": [],
   "source": [
    "# Import all the necessary packages\n",
    "import numpy as np\n",
    "import pandas as pd\n",
    "import pygmo as pg\n",
    "import matplotlib.pyplot as plt\n",
    "import time"
   ]
  },
  {
   "cell_type": "code",
   "execution_count": 1,
   "metadata": {},
   "outputs": [
    {
     "ename": "NameError",
     "evalue": "name 'pd' is not defined",
     "output_type": "error",
     "traceback": [
      "\u001b[1;31m---------------------------------------------------------------------------\u001b[0m",
      "\u001b[1;31mNameError\u001b[0m                                 Traceback (most recent call last)",
      "\u001b[1;32m<ipython-input-1-b0a0c4242a28>\u001b[0m in \u001b[0;36m<module>\u001b[1;34m\u001b[0m\n\u001b[0;32m      1\u001b[0m \u001b[1;31m# Read data from csv\u001b[0m\u001b[1;33m\u001b[0m\u001b[1;33m\u001b[0m\u001b[1;33m\u001b[0m\u001b[0m\n\u001b[1;32m----> 2\u001b[1;33m \u001b[0mraw_data\u001b[0m \u001b[1;33m=\u001b[0m \u001b[0mpd\u001b[0m\u001b[1;33m.\u001b[0m\u001b[0mread_csv\u001b[0m\u001b[1;33m(\u001b[0m\u001b[1;34m\"Data/Rosenbrock's_data.csv\"\u001b[0m\u001b[1;33m)\u001b[0m\u001b[1;33m\u001b[0m\u001b[1;33m\u001b[0m\u001b[0m\n\u001b[0m\u001b[0;32m      3\u001b[0m \u001b[0mrosenbrock\u001b[0m \u001b[1;33m=\u001b[0m \u001b[0mraw_data\u001b[0m\u001b[1;33m[\u001b[0m\u001b[1;34m\"val\"\u001b[0m\u001b[1;33m]\u001b[0m\u001b[1;33m.\u001b[0m\u001b[0mtolist\u001b[0m\u001b[1;33m(\u001b[0m\u001b[1;33m)\u001b[0m\u001b[1;33m\u001b[0m\u001b[1;33m\u001b[0m\u001b[0m\n\u001b[0;32m      4\u001b[0m \u001b[0mprint\u001b[0m\u001b[1;33m(\u001b[0m\u001b[0mrosenbrock\u001b[0m\u001b[1;33m)\u001b[0m\u001b[1;33m\u001b[0m\u001b[1;33m\u001b[0m\u001b[0m\n\u001b[0;32m      5\u001b[0m \u001b[0mprint\u001b[0m\u001b[1;33m(\u001b[0m\u001b[0mtype\u001b[0m\u001b[1;33m(\u001b[0m\u001b[0mrosenbrock\u001b[0m\u001b[1;33m)\u001b[0m\u001b[1;33m)\u001b[0m\u001b[1;33m\u001b[0m\u001b[1;33m\u001b[0m\u001b[0m\n",
      "\u001b[1;31mNameError\u001b[0m: name 'pd' is not defined"
     ]
    }
   ],
   "source": [
    "# Read data from csv\n",
    "raw_data = pd.read_csv(\"Data/Rosenbrock's_data.csv\")\n",
    "rosenbrock = raw_data[\"val\"].tolist()\n",
    "print(rosenbrock)\n",
    "print(type(rosenbrock))"
   ]
  },
  {
   "cell_type": "code",
   "execution_count": null,
   "metadata": {},
   "outputs": [],
   "source": [
    "# Initialize function parameters\n",
    "D = 50\n",
    "bias = 390\n",
    "lower_bound = -100\n",
    "upper_bound = 100\n",
    "popsize = 300"
   ]
  },
  {
   "cell_type": "code",
   "execution_count": null,
   "metadata": {},
   "outputs": [],
   "source": [
    "# Define the Shifted Rosenbrock's function with the previous parameters\n",
    "def function(x, data, dim, f_bias):\n",
    "    F = 0\n",
    "    z = np.empty(dim)\n",
    "    for i in range(dim - 1):\n",
    "        z[i] = x[i] - data[i] + 1\n",
    "    for i in range (dim - 2):\n",
    "        F += 100 * ((z[i]**2 - z[i + 1])**2) + (z[i] - 1)**2\n",
    "    res = F + f_bias\n",
    "    return res\n"
   ]
  },
  {
   "cell_type": "code",
   "execution_count": null,
   "metadata": {},
   "outputs": [],
   "source": [
    "# Create User Defined Problem (UDP) class\n",
    "class rosenbrock_prob:\n",
    "    def __init__(self, dim, lower_bound, upper_bound, optim, bias):\n",
    "        self.dim = dim\n",
    "        self.lower_bound = lower_bound\n",
    "        self.upper_bound = upper_bound\n",
    "        self.optim = optim\n",
    "        self.bias = bias\n",
    "\n",
    "    def fitness(self, x):\n",
    "        res = [function(x, self.optim, self.dim, self.bias)]\n",
    "        return res\n",
    "\n",
    "    def get_bounds(self):\n",
    "        xmin = self.lower_bound * np.ones(self.dim)\n",
    "        xmax = self.upper_bound * np.ones(self.dim)\n",
    "        return xmin, xmax"
   ]
  },
  {
   "cell_type": "code",
   "execution_count": null,
   "metadata": {},
   "outputs": [],
   "source": [
    "# Create a function to solve this problem\n",
    "def solver(dimension, lower_bound, upper_bound, optim, bias, popsize):\n",
    "    global algo\n",
    "    global pop\n",
    "    global niter\n",
    "    global log\n",
    "    global curve\n",
    "    prob = pg.problem(rosenbrock_prob(dimension, lower_bound, upper_bound, optim, bias))\n",
    "    algo = pg.algorithm(pg.de(gen=3000, F=0.8, CR=0.9, variant=3, ftol=1e-06, xtol=1e-06))\n",
    "    algo.set_verbosity(1)\n",
    "    pop = pg.population(prob, popsize)\n",
    "    pop = algo.evolve(pop)\n",
    "    log = algo.extract(pg.de).get_log()\n",
    "    curve = [x[2] for x in log]\n",
    "    niter = log[-1][0]\n",
    "    return prob, algo, pop, log, niter, curve\n"
   ]
  },
  {
   "cell_type": "code",
   "execution_count": null,
   "metadata": {},
   "outputs": [],
   "source": [
    "# Create a function to plot the convergence curve\n",
    "def plot_fitness(solution):\n",
    "    fig = plt.figure(figsize=(16, 13))\n",
    "    plt.plot(solution)\n",
    "    plt.title(\"Continuous Optimization: Shifted Rosenbrock's Function (F3) with D=50\", fontsize=16)\n",
    "    plt.xlabel(\"Time (iterations)\", fontsize=12)\n",
    "    plt.ylabel(\"Fitness\", fontsize=12)\n",
    "    plt.show()\n"
   ]
  },
  {
   "cell_type": "code",
   "execution_count": null,
   "metadata": {},
   "outputs": [],
   "source": [
    "# Start timer to get computational time\n",
    "t1 = time.time()\n",
    "\n",
    "# Solve the problem\n",
    "solver(D, lower_bound, upper_bound, rosenbrock, bias, popsize)\n",
    "\n",
    "# Stop timer and compute computational time\n",
    "t2 = time.time()\n",
    "comp_time = t2 - t1"
   ]
  },
  {
   "cell_type": "code",
   "execution_count": null,
   "metadata": {},
   "outputs": [],
   "source": [
    "# Print parameters and solutions\n",
    "print(\"==========================================================================\\n\")\n",
    "print(\"Function: Shifted Rosenbrock's Function (F3)\\n\")\n",
    "print(\"01. Chosen algorithm to solve the problem: DE from Pygmo\\n\")\n",
    "print(\"02. Parameters:\")\n",
    "print(\"\\nDimension:\", D)\n",
    "print(\"\\nSearch space: [\", lower_bound, \",\", upper_bound, \"]\")\n",
    "print(\"\\nBias:\", bias)\n",
    "print(\"\\nPopulation size:\", popsize)\n",
    "param = algo.get_extra_info()\n",
    "print(\"\\n\", param)\n",
    "print(\"\\n03. Final results:\")\n",
    "sol_df = pd.DataFrame(pop.champion_x, columns=[''])\n",
    "sol_df.to_csv(\"Rosenbrock_sol50.csv\", sep=\",\")\n",
    "print(\"\\n    - Solutions:\", sol_df)\n",
    "print(\"\\n    - Fitness:\", pop.champion_f[0])\n",
    "print(\"\\nNumber of function evaluations:\", pop.problem.get_fevals())\n",
    "print(\"\\nStopping criterion:\", niter, \"iterations\")\n",
    "print(\"\\nComputational time:\", round(comp_time, 2), \"seconds\\n\")\n",
    "print(\"==========================================================================\")"
   ]
  },
  {
   "cell_type": "code",
   "execution_count": null,
   "metadata": {},
   "outputs": [],
   "source": [
    "# Plot and save convergence curve\n",
    "plot_fitness(curve)"
   ]
  }
 ],
 "metadata": {
  "kernelspec": {
   "display_name": "Python 3",
   "language": "python",
   "name": "python3"
  },
  "language_info": {
   "codemirror_mode": {
    "name": "ipython",
    "version": 3
   },
   "file_extension": ".py",
   "mimetype": "text/x-python",
   "name": "python",
   "nbconvert_exporter": "python",
   "pygments_lexer": "ipython3",
   "version": "3.7.5"
  }
 },
 "nbformat": 4,
 "nbformat_minor": 2
}
