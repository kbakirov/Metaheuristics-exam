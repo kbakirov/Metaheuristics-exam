{
 "cells": [
  {
   "cell_type": "code",
   "execution_count": null,
   "metadata": {},
   "outputs": [],
   "source": [
    "# Shifted Sphere Function with D=50\n",
    "\n",
    "# Import libraries\n",
    "import numpy as np\n",
    "import pandas as pd\n",
    "from scipy.optimize import minimize\n",
    "import matplotlib.pyplot as plt\n",
    "import time"
   ]
  },
  {
   "cell_type": "code",
   "execution_count": null,
   "metadata": {},
   "outputs": [],
   "source": [
    "# Read data from csv\n",
    "raw_data = pd.read_csv(\"./Shifted_Sphere.csv\")\n",
    "shifted_sphere = raw_data[\"val\"].tolist()\n",
    "print(shifted_sphere)\n",
    "print(type(shifted_sphere))"
   ]
  },
  {
   "cell_type": "code",
   "execution_count": null,
   "metadata": {},
   "outputs": [],
   "source": [
    "# Parameters\n",
    "Dim = 50\n",
    "bias = -450\n",
    "lower_bound = -100\n",
    "upper_bound = 100\n",
    "list_result = []"
   ]
  },
  {
   "cell_type": "code",
   "execution_count": null,
   "metadata": {},
   "outputs": [],
   "source": [
    "# Last parameters\n",
    "def func(a, data=shifted_sphere, dim=Dim, f_bias=bias):\n",
    "    F = 0\n",
    "    for i in range(dim - 1):\n",
    "        z = x[i] - data[i]\n",
    "        F += z**2\n",
    "    res = F + f_bias\n",
    "    return res"
   ]
  },
  {
   "cell_type": "code",
   "execution_count": null,
   "metadata": {},
   "outputs": [],
   "source": [
    "def solution(ak):\n",
    "    res = function(ak)\n",
    "    list_result.append(res)\n",
    "    return sol_res\n"
   ]
  },
  {
   "cell_type": "code",
   "execution_count": null,
   "metadata": {},
   "outputs": [],
   "source": [
    "# random uniform distribution\n",
    "def distr(dim, lower_bound, upper_bound):\n",
    "    xmin = lower_bound * np.ones(dim)\n",
    "    xmax = upper_bound * np.ones(dim)\n",
    "    x0 = np.random.uniform(min(xmin), max(xmax), dim)\n",
    "    return x0"
   ]
  },
  {
   "cell_type": "code",
   "execution_count": null,
   "metadata": {},
   "outputs": [],
   "source": [
    "# Solution\n",
    "def result(dimension, lower_bound, upper_bound):\n",
    "    global solution\n",
    "    x0 = result(dimension, lower_bound, upper_bound)\n",
    "    solution = minimize(sol_set, x0, bounds=(lower_bound, upper_bound), method='BFGS', callback=sol_set)\n",
    "    return solution, list_result"
   ]
  },
  {
   "cell_type": "code",
   "execution_count": null,
   "metadata": {},
   "outputs": [],
   "source": [
    "# plot curve\n",
    "def plot(solution):\n",
    "    fig = plt.figure(figsize=(16, 13))\n",
    "    plt.plot(solution)\n",
    "    plt.title(\"Shifted Sphere Function with D=50\", fontsize=12)\n",
    "    plt.xlabel(\"Time\", fontsize=10)\n",
    "    plt.ylabel(\"Fitness\", fontsize=10)\n",
    "    plt.show()"
   ]
  },
  {
   "cell_type": "code",
   "execution_count": null,
   "metadata": {},
   "outputs": [],
   "source": [
    "# computational time\n",
    "timer1 = time.time()"
   ]
  },
  {
   "cell_type": "code",
   "execution_count": null,
   "metadata": {},
   "outputs": [],
   "source": [
    "# compute computational time\n",
    "timer2 = time.time()\n",
    "comp_time = timer2 - timer1"
   ]
  },
  {
   "cell_type": "code",
   "execution_count": null,
   "metadata": {},
   "outputs": [],
   "source": [
    "# Print solutions\n",
    "print(\"Function: Shifted Sphere Function (F1)\\n\")\n",
    "print(\"02. Parameters:\")\n",
    "print(\"\\nDimension:\", Dim)\n",
    "print(\"\\nSearch space: [\", lower_bound, \",\", upper_bound, \"]\")\n",
    "print(\"\\nBias:\", bias)\n",
    "print(\"\\n03. Final results:\")\n",
    "sol_df = pd.DataFrame(solution.x, columns=[''])\n",
    "sol_df.to_csv(\"Shifted_Sphere_50.csv\", sep=\",\")\n",
    "print(\"\\n    - Solutions:\", sol_df)\n",
    "print(\"\\n    - Fitness:\", round(sol.fun, 2))\n",
    "print(\"\\nNumber of function evaluations:\", sol.nfev)\n",
    "print(\"\\nStopping criterion:\", sol.nit, \"iterations\")\n",
    "print(\"\\nComputational time:\", round(comp_time, 2), \"seconds\\n\")\n",
    "print(\"==========================================================================\")"
   ]
  },
  {
   "cell_type": "code",
   "execution_count": null,
   "metadata": {},
   "outputs": [],
   "source": [
    "# Plot and save convergence curve\n",
    "plot_fitness(sol_list)"
   ]
  }
 ],
 "metadata": {
  "kernelspec": {
   "display_name": "Python 3",
   "language": "python",
   "name": "python3"
  },
  "language_info": {
   "codemirror_mode": {
    "name": "ipython",
    "version": 3
   },
   "file_extension": ".py",
   "mimetype": "text/x-python",
   "name": "python",
   "nbconvert_exporter": "python",
   "pygments_lexer": "ipython3",
   "version": "3.7.5"
  }
 },
 "nbformat": 4,
 "nbformat_minor": 2
}
