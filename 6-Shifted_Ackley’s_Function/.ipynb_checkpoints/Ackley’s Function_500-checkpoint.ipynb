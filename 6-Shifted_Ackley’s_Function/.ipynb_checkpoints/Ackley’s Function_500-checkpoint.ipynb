{
 "cells": [
  {
   "cell_type": "code",
   "execution_count": null,
   "metadata": {},
   "outputs": [],
   "source": [
    "\n",
    "# Continuous Optimization: Shifted Ackley's Function (F6) with D=500\n",
    "\n",
    "# Import all the necessary packages\n",
    "import math\n",
    "import numpy as np\n",
    "import pandas as pd\n",
    "import pygmo as pg\n",
    "import matplotlib.pyplot as plt\n",
    "import time"
   ]
  },
  {
   "cell_type": "code",
   "execution_count": null,
   "metadata": {},
   "outputs": [],
   "source": [
    "# Read data from csv\n",
    "raw_data = pd.read_csv(\"Data/Ackley's Function.csv\")\n",
    "ackley = raw_data[\"val\"].tolist()\n",
    "print(ackley)\n",
    "print(type(ackley))"
   ]
  },
  {
   "cell_type": "code",
   "execution_count": null,
   "metadata": {},
   "outputs": [],
   "source": [
    "# Initialize function parameters\n",
    "D = 500\n",
    "bias = -140\n",
    "lower_bound = -32\n",
    "upper_bound = 32\n",
    "popsize = 200\n"
   ]
  },
  {
   "cell_type": "code",
   "execution_count": null,
   "metadata": {},
   "outputs": [],
   "source": [
    "# Define the Shifted Ackley's function with the previous parameters\n",
    "def function(x, data, dim, f_bias):\n",
    "    Sum1 = 0\n",
    "    Sum2 = 0\n",
    "    for i in range(dim - 1):\n",
    "        z = x[i] - data[i]\n",
    "        Sum1 += z ** 2\n",
    "        Sum2 += math.cos(2 * math.pi * z)\n",
    "    Sum = -20 * math.exp(-0.2 * math.sqrt(Sum1 / dim)) - math.exp(Sum2 / dim) + 20 + math.e\n",
    "    res = Sum + f_bias\n",
    "    return res"
   ]
  },
  {
   "cell_type": "code",
   "execution_count": null,
   "metadata": {},
   "outputs": [],
   "source": [
    "# Create User Defined Problem (UDP) class\n",
    "class ackley_prob:\n",
    "    def __init__(self, dim, lower_bound, upper_bound, optim, bias):\n",
    "        self.dim = dim\n",
    "        self.lower_bound = lower_bound\n",
    "        self.upper_bound = upper_bound\n",
    "        self.optim = optim\n",
    "        self.bias = bias\n",
    "\n",
    "    def fitness(self, x):\n",
    "        res = [function(x, self.optim, self.dim, self.bias)]\n",
    "        return res\n",
    "\n",
    "    def get_bounds(self):\n",
    "        xmin = self.lower_bound * np.ones(self.dim)\n",
    "        xmax = self.upper_bound * np.ones(self.dim)\n",
    "        return xmin, xmax\n"
   ]
  },
  {
   "cell_type": "code",
   "execution_count": null,
   "metadata": {},
   "outputs": [],
   "source": [
    "# Create a function to solve this problem\n",
    "def solver(dimension, lower_bound, upper_bound, optim, bias, popsize):\n",
    "    global algo\n",
    "    global pop\n",
    "    global niter\n",
    "    global log\n",
    "    global curve\n",
    "    prob = pg.problem(ackley_prob(dimension, lower_bound, upper_bound, optim, bias))\n",
    "    algo = pg.algorithm(pg.pso(gen=8000, omega=0.6, eta1=2, eta2=4, max_vel=0.5, variant=5, neighb_type=2, neighb_param=4))\n",
    "    algo.set_verbosity(1)\n",
    "    pop = pg.population(prob, popsize)\n",
    "    pop = algo.evolve(pop)\n",
    "    log = algo.extract(pg.pso).get_log()\n",
    "    curve = [x[2] for x in log]\n",
    "    niter = log[-1][0]\n",
    "    return prob, algo, pop, log, niter, curve"
   ]
  },
  {
   "cell_type": "code",
   "execution_count": null,
   "metadata": {},
   "outputs": [],
   "source": [
    "# Create a function to plot the convergence curve\n",
    "def plot_fitness(solution):\n",
    "    fig = plt.figure(figsize=(16, 13))\n",
    "    plt.plot(solution)\n",
    "    plt.title(\"Continuous Optimization: Shifted Ackley's Function (F6) with D=500\", fontsize=16)\n",
    "    plt.xlabel(\"Time (iterations)\", fontsize=12)\n",
    "    plt.ylabel(\"Fitness\", fontsize=12)\n",
    "    plt.show()\n"
   ]
  },
  {
   "cell_type": "code",
   "execution_count": null,
   "metadata": {},
   "outputs": [],
   "source": [
    "# Start timer to get computational time\n",
    "t1 = time.time()\n",
    "\n",
    "# Solve the problem\n",
    "solver(D, lower_bound, upper_bound, ackley, bias, popsize)\n",
    "\n",
    "# Stop timer and compute computational time\n",
    "t2 = time.time()\n",
    "comp_time = t2 - t1"
   ]
  },
  {
   "cell_type": "code",
   "execution_count": null,
   "metadata": {},
   "outputs": [],
   "source": [
    "# Print parameters and solutions\n",
    "print(\"==========================================================================\\n\")\n",
    "print(\"Function: Shifted Ackley's Function (F6)\\n\")\n",
    "print(\"01. Chosen algorithm to solve the problem: PSO from Pygmo\\n\")\n",
    "print(\"02. Parameters:\")\n",
    "print(\"\\nDimension:\", D)\n",
    "print(\"\\nSearch space: [\", lower_bound, \",\", upper_bound, \"]\")\n",
    "print(\"\\nBias:\", bias)\n",
    "print(\"\\nPopulation size:\", popsize)\n",
    "param = algo.get_extra_info()\n",
    "print(\"\\n\", param)\n",
    "print(\"\\n03. Final results:\")\n",
    "sol_df = pd.DataFrame(pop.champion_x, columns=[''])\n",
    "sol_df.to_csv(\"Ackley_sol500.csv\", sep=\",\")\n",
    "print(\"\\n    - Solutions:\", sol_df)\n",
    "print(\"\\n    - Fitness:\", pop.champion_f[0])\n",
    "print(\"\\nNumber of function evaluations:\", pop.problem.get_fevals())\n",
    "print(\"\\nStopping criterion:\", niter, \"iterations\")\n",
    "print(\"\\nComputational time:\", round(comp_time, 2), \"seconds\\n\")\n",
    "print(\"==========================================================================\")"
   ]
  },
  {
   "cell_type": "code",
   "execution_count": null,
   "metadata": {},
   "outputs": [],
   "source": [
    "# Plot and save convergence curve\n",
    "plot_fitness(curve)"
   ]
  },
  {
   "cell_type": "code",
   "execution_count": null,
   "metadata": {},
   "outputs": [],
   "source": []
  }
 ],
 "metadata": {
  "kernelspec": {
   "display_name": "Python 3",
   "language": "python",
   "name": "python3"
  },
  "language_info": {
   "codemirror_mode": {
    "name": "ipython",
    "version": 3
   },
   "file_extension": ".py",
   "mimetype": "text/x-python",
   "name": "python",
   "nbconvert_exporter": "python",
   "pygments_lexer": "ipython3",
   "version": "3.7.5"
  }
 },
 "nbformat": 4,
 "nbformat_minor": 2
}
